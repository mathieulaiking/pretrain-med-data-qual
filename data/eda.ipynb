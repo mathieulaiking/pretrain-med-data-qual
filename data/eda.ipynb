{
 "cells": [
  {
   "cell_type": "code",
   "execution_count": 1,
   "id": "a702370f-5ba6-4e37-b1d5-da14fd1cc1d5",
   "metadata": {
    "tags": []
   },
   "outputs": [],
   "source": [
    "import os\n",
    "import numpy as np\n",
    "from datasets import load_from_disk, load_dataset\n",
    "from transformers import AutoTokenizer\n",
    "\n",
    "# project root path\n",
    "dsdir = os.getenv(\"DSDIR\")\n",
    "scratch = os.getenv(\"SCRATCH\")\n",
    "idr_models = f\"{dsdir}/HuggingFace_Models\"\n",
    "bioasq_raw_path = f\"{scratch}/pretrain-med-data-qual/data/bioasq_7b_raw\"\n",
    "bert_path = f\"{idr_models}/bert-base-uncased\""
   ]
  },
  {
   "cell_type": "markdown",
   "id": "70561e98-264c-4563-82a5-f38f3a788386",
   "metadata": {
    "jp-MarkdownHeadingCollapsed": true,
    "tags": []
   },
   "source": [
    "# pretrain set"
   ]
  },
  {
   "cell_type": "code",
   "execution_count": 11,
   "id": "443ce932-75e9-4ecc-814d-37dec723fdfc",
   "metadata": {
    "tags": []
   },
   "outputs": [
    {
     "data": {
      "application/vnd.jupyter.widget-view+json": {
       "model_id": "7fd750309bed4bb6b69db0c63699152c",
       "version_major": 2,
       "version_minor": 0
      },
      "text/plain": [
       "Loading dataset from disk:   0%|          | 0/215 [00:00<?, ?it/s]"
      ]
     },
     "metadata": {},
     "output_type": "display_data"
    }
   ],
   "source": [
    "ds = load_from_disk(\"pubmed_preproc\")"
   ]
  },
  {
   "cell_type": "code",
   "execution_count": 14,
   "id": "c21b2e49-d672-48f7-aea7-f3381c062f9b",
   "metadata": {},
   "outputs": [],
   "source": [
    "# Remove filtering metrics columns\n",
    "columns_to_keep = [\n",
    "    \"input_ids\",\n",
    "    \"token_type_ids\",\n",
    "    \"attention_mask\",\n",
    "    \"special_tokens_mask\",\n",
    "]\n",
    "ds[\"train\"] = ds[\"train\"].remove_columns(\n",
    "    [c for c in ds[\"train\"].column_names\n",
    "     if c not in columns_to_keep]\n",
    "    )\n",
    "\n",
    "ds[\"validation\"] = ds[\"validation\"].remove_columns(\n",
    "    [c for c in ds[\"validation\"].column_names \n",
    "     if c not in columns_to_keep]\n",
    ")"
   ]
  },
  {
   "cell_type": "code",
   "execution_count": 30,
   "id": "7e790fb6-9ea7-46a0-910d-ae844a39903f",
   "metadata": {},
   "outputs": [],
   "source": [
    "train_ds = ds[\"train\"].select(range(10000))\n",
    "val_ds = ds[\"validation\"].select(range(10000))"
   ]
  },
  {
   "cell_type": "code",
   "execution_count": 31,
   "id": "b0d094e5-64c5-4e94-867b-816ad7666615",
   "metadata": {},
   "outputs": [],
   "source": [
    "from itertools import chain\n",
    "max_seq_length = 512\n",
    "tokenizer = AutoTokenizer.from_pretrained(bert_path)"
   ]
  },
  {
   "cell_type": "code",
   "execution_count": 32,
   "id": "6f7e2a24-bcf1-4c1e-8808-221d3a1f095c",
   "metadata": {},
   "outputs": [
    {
     "data": {
      "application/vnd.jupyter.widget-view+json": {
       "model_id": "e573d8ff919d4be4a5aaf00c4a6b5996",
       "version_major": 2,
       "version_minor": 0
      },
      "text/plain": [
       "Grouping texts in chunks of 512 (num_proc=8):   0%|          | 0/10000 [00:00<?, ? examples/s]"
      ]
     },
     "metadata": {},
     "output_type": "display_data"
    }
   ],
   "source": [
    "def group_tokens_and_pad(examples):\n",
    "    # Concatenate all texts in the batch\n",
    "    concatenated_examples = {k: list(chain(*examples[k])) for k in examples.keys()}\n",
    "    total_length = len(concatenated_examples[list(examples.keys())[0]])\n",
    "    # padding variable\n",
    "    remainder = total_length % max_seq_length \n",
    "    # update total length\n",
    "    total_length = (total_length // max_seq_length) * max_seq_length \n",
    "    # Add padding tokens and masks\n",
    "    if remainder != 0:\n",
    "        total_length += max_seq_length \n",
    "        concatenated_examples[\"input_ids\"] += [tokenizer.pad_token_id] * (max_seq_length - remainder)\n",
    "        concatenated_examples[\"token_type_ids\"] += [0] * (max_seq_length - remainder)\n",
    "        concatenated_examples[\"attention_mask\"] += [0] * (max_seq_length - remainder)\n",
    "        concatenated_examples[\"special_tokens_mask\"] += [1] * (max_seq_length - remainder)\n",
    "    # Split by chunks of max_len.\n",
    "    result = {\n",
    "        k: [t[i : i + max_seq_length] for i in range(0, total_length, max_seq_length)]\n",
    "        for k, t in concatenated_examples.items()\n",
    "    }\n",
    "    return result\n",
    "\n",
    "train_ds = train_ds.map(\n",
    "    group_tokens_and_pad,\n",
    "    batched=True,\n",
    "    batch_size=1024,\n",
    "    num_proc=8,\n",
    "    load_from_cache_file=True,\n",
    "    desc=f\"Grouping texts in chunks of {max_seq_length}\",\n",
    ") \n",
    "val_ds = val_ds.map(\n",
    "    group_tokens_and_pad,\n",
    "    batched=True,\n",
    "    batch_size=1024,\n",
    "    num_proc=8,\n",
    "    load_from_cache_file=True,\n",
    "    desc=f\"Grouping texts in chunks of {max_seq_length}\",\n",
    ") "
   ]
  },
  {
   "cell_type": "code",
   "execution_count": 7,
   "id": "a7560b54-837a-42bc-b318-195bd15cdb8b",
   "metadata": {
    "tags": []
   },
   "outputs": [
    {
     "data": {
      "text/plain": [
       "2.3444218515250483"
      ]
     },
     "execution_count": 7,
     "metadata": {},
     "output_type": "execute_result"
    }
   ],
   "source": [
    "ds[\"train\"][0][\"random\"] "
   ]
  },
  {
   "cell_type": "markdown",
   "id": "283fa2ec-b14a-4e4d-946b-4a881f08494e",
   "metadata": {
    "tags": []
   },
   "source": [
    "# finetuning tasks sets"
   ]
  },
  {
   "cell_type": "code",
   "execution_count": 2,
   "id": "9708aca5-cdb7-4a03-86fa-ab0c9ae54651",
   "metadata": {},
   "outputs": [
    {
     "name": "stdout",
     "output_type": "stream",
     "text": [
      "0 bc5chem\n",
      "1 bc5disease\n",
      "2 bc2gm\n",
      "3 jnlpba\n",
      "4 ncbi_disease\n",
      "5 bigbio/ebm_pico\n",
      "6 bigbio/chemprot\n",
      "7 bigbio/ddi_corpus\n",
      "8 bigbio/gad\n",
      "9 bigbio/biosses\n",
      "10 bigbio/hallmarks_of_cancer\n",
      "11 bigbio/bioasq_task_b\n",
      "12 bigbio/pubmed_qa\n"
     ]
    }
   ],
   "source": [
    "ds_name_config =  [\n",
    "        (\"bigbio/blurb\",\"bc5chem\"),\n",
    "        (\"bigbio/blurb\",\"bc5disease\"),\n",
    "        (\"bigbio/blurb\",\"bc2gm\"),\n",
    "        (\"bigbio/blurb\",\"jnlpba\"),\n",
    "        (\"bigbio/blurb\",\"ncbi_disease\"),\n",
    "        (\"bigbio/ebm_pico\", None), \n",
    "        (\"bigbio/chemprot\", \"chemprot_bigbio_kb\"),\n",
    "        (\"bigbio/ddi_corpus\", \"ddi_corpus_bigbio_kb\"),\n",
    "        (\"bigbio/gad\", \"gad_blurb_bigbio_text\"),\n",
    "        (\"bigbio/biosses\", \"biosses_bigbio_pairs\"),\n",
    "        (\"bigbio/hallmarks_of_cancer\", None),\n",
    "        (\"bigbio/bioasq_task_b\",\"bioasq_blurb_bigbio_qa\"),\n",
    "        (\"bigbio/pubmed_qa\",\"pubmed_qa_labeled_fold0_bigbio_qa\"),\n",
    "]\n",
    "for i,dname in enumerate(ds_name_config):\n",
    "    if i < 5 : print(i,dname[1])\n",
    "    else : print(i,dname[0])"
   ]
  },
  {
   "cell_type": "code",
   "execution_count": 3,
   "id": "350b08e2-b24e-43c3-97f8-fe7ecdf0725d",
   "metadata": {},
   "outputs": [],
   "source": [
    "choice = 10\n",
    "ds = load_dataset(\n",
    "    ds_name_config[choice][0],\n",
    "    name=ds_name_config[choice][1],\n",
    "    cache_dir=\".blurb_cache\",\n",
    "    trust_remote_code=True,\n",
    ")"
   ]
  },
  {
   "cell_type": "code",
   "execution_count": 9,
   "id": "26f9a510-e175-446c-ad2e-9ace617d0e44",
   "metadata": {},
   "outputs": [],
   "source": [
    "for name,conf in ds_name_config : \n",
    "    ds = load_dataset(\n",
    "        name,\n",
    "        name=conf,\n",
    "        cache_dir=\".blurb_cache\",\n",
    "        trust_remote_code=True,\n",
    "        data_dir=bioasq_data_dir if name.startswith(\"bigbio/bioasq\") else None,\n",
    "    )"
   ]
  },
  {
   "cell_type": "code",
   "execution_count": 4,
   "id": "359e14ee-359f-4334-aa2e-dc80c9c1706b",
   "metadata": {},
   "outputs": [
    {
     "data": {
      "text/plain": [
       "{'document_id': Value(dtype='string', id=None),\n",
       " 'text': Value(dtype='string', id=None),\n",
       " 'label': [ClassLabel(names=['evading growth suppressors', 'tumor promoting inflammation', 'enabling replicative immortality', 'cellular energetics', 'resisting cell death', 'activating invasion and metastasis', 'genomic instability and mutation', 'none', 'inducing angiogenesis', 'sustaining proliferative signaling', 'avoiding immune destruction'], id=None)]}"
      ]
     },
     "execution_count": 4,
     "metadata": {},
     "output_type": "execute_result"
    }
   ],
   "source": [
    "ds[\"train\"].features"
   ]
  },
  {
   "cell_type": "code",
   "execution_count": 5,
   "id": "ef4eee8e-4cb1-4d80-9f5b-a23bb92a28ee",
   "metadata": {},
   "outputs": [
    {
     "data": {
      "text/plain": [
       "DatasetDict({\n",
       "    train: Dataset({\n",
       "        features: ['document_id', 'text', 'label'],\n",
       "        num_rows: 12119\n",
       "    })\n",
       "    test: Dataset({\n",
       "        features: ['document_id', 'text', 'label'],\n",
       "        num_rows: 3547\n",
       "    })\n",
       "    validation: Dataset({\n",
       "        features: ['document_id', 'text', 'label'],\n",
       "        num_rows: 1798\n",
       "    })\n",
       "})"
      ]
     },
     "execution_count": 5,
     "metadata": {},
     "output_type": "execute_result"
    }
   ],
   "source": [
    "ds"
   ]
  },
  {
   "cell_type": "code",
   "execution_count": null,
   "id": "f0536d82-2411-4c1a-9c28-c04c37f77d25",
   "metadata": {},
   "outputs": [],
   "source": []
  }
 ],
 "metadata": {
  "kernelspec": {
   "display_name": "pytorch-gpu-2.2.0_py3.11.7",
   "language": "python",
   "name": "module-conda-env-pytorch-gpu-2.2.0_py3.11.7"
  },
  "language_info": {
   "codemirror_mode": {
    "name": "ipython",
    "version": 3
   },
   "file_extension": ".py",
   "mimetype": "text/x-python",
   "name": "python",
   "nbconvert_exporter": "python",
   "pygments_lexer": "ipython3",
   "version": "3.11.7"
  }
 },
 "nbformat": 4,
 "nbformat_minor": 5
}
