{
 "cells": [
  {
   "cell_type": "code",
   "execution_count": 17,
   "id": "a702370f-5ba6-4e37-b1d5-da14fd1cc1d5",
   "metadata": {
    "tags": []
   },
   "outputs": [],
   "source": [
    "import os\n",
    "import numpy as np\n",
    "from datasets import load_from_disk, load_dataset\n",
    "from transformers import AutoTokenizer\n",
    "\n",
    "# project root path\n",
    "dsdir = os.getenv(\"DSDIR\")\n",
    "idr_models_dir = os.path.join(dsdir,\"HuggingFace_Models\")"
   ]
  },
  {
   "cell_type": "markdown",
   "id": "70561e98-264c-4563-82a5-f38f3a788386",
   "metadata": {
    "jp-MarkdownHeadingCollapsed": true,
    "tags": []
   },
   "source": [
    "# pubmed pretraining set"
   ]
  },
  {
   "cell_type": "code",
   "execution_count": 3,
   "id": "443ce932-75e9-4ecc-814d-37dec723fdfc",
   "metadata": {
    "tags": []
   },
   "outputs": [
    {
     "data": {
      "application/vnd.jupyter.widget-view+json": {
       "model_id": "b735e16871ae44bc95ed7c964730d25f",
       "version_major": 2,
       "version_minor": 0
      },
      "text/plain": [
       "Loading dataset from disk:   0%|          | 0/215 [00:00<?, ?it/s]"
      ]
     },
     "metadata": {},
     "output_type": "display_data"
    }
   ],
   "source": [
    "ds = load_from_disk(\"pubmed_preproc\")"
   ]
  },
  {
   "cell_type": "code",
   "execution_count": 8,
   "id": "b5bdf6e0-62af-4b07-a701-ac5f3ad678f6",
   "metadata": {
    "tags": []
   },
   "outputs": [
    {
     "data": {
      "text/plain": [
       "DatasetDict({\n",
       "    train: Dataset({\n",
       "        features: ['h-index', 'sjr', 'input_ids', 'token_type_ids', 'attention_mask', 'special_tokens_mask', 'random'],\n",
       "        num_rows: 57940603\n",
       "    })\n",
       "    validation: Dataset({\n",
       "        features: ['h-index', 'sjr', 'input_ids', 'token_type_ids', 'attention_mask', 'special_tokens_mask'],\n",
       "        num_rows: 3049506\n",
       "    })\n",
       "})"
      ]
     },
     "execution_count": 8,
     "metadata": {},
     "output_type": "execute_result"
    }
   ],
   "source": [
    "ds"
   ]
  },
  {
   "cell_type": "code",
   "execution_count": 7,
   "id": "a7560b54-837a-42bc-b318-195bd15cdb8b",
   "metadata": {
    "tags": []
   },
   "outputs": [
    {
     "data": {
      "text/plain": [
       "2.3444218515250483"
      ]
     },
     "execution_count": 7,
     "metadata": {},
     "output_type": "execute_result"
    }
   ],
   "source": [
    "ds[\"train\"][0][\"random\"] "
   ]
  },
  {
   "cell_type": "markdown",
   "id": "283fa2ec-b14a-4e4d-946b-4a881f08494e",
   "metadata": {
    "tags": []
   },
   "source": [
    "# biosses sentence sim"
   ]
  },
  {
   "cell_type": "code",
   "execution_count": 45,
   "id": "63ebe131-d754-4dbd-90e1-61a8be01a085",
   "metadata": {
    "tags": []
   },
   "outputs": [],
   "source": [
    "biosses = load_dataset(\"bigbio/biosses\",cache_dir=\".blurb_cache\",trust_remote_code=True)"
   ]
  },
  {
   "cell_type": "code",
   "execution_count": 40,
   "id": "2f7b2c01-d9f5-43d8-86f9-5bfdf0413255",
   "metadata": {
    "tags": []
   },
   "outputs": [
    {
     "data": {
      "application/vnd.jupyter.widget-view+json": {
       "model_id": "e0c52432785047159f0b1d7d0e4cbcd8",
       "version_major": 2,
       "version_minor": 0
      },
      "text/plain": [
       "Map:   0%|          | 0/64 [00:00<?, ? examples/s]"
      ]
     },
     "metadata": {},
     "output_type": "display_data"
    },
    {
     "data": {
      "application/vnd.jupyter.widget-view+json": {
       "model_id": "1f956d6b88114488aea32c0288b74298",
       "version_major": 2,
       "version_minor": 0
      },
      "text/plain": [
       "Map:   0%|          | 0/16 [00:00<?, ? examples/s]"
      ]
     },
     "metadata": {},
     "output_type": "display_data"
    },
    {
     "data": {
      "application/vnd.jupyter.widget-view+json": {
       "model_id": "79c1fafef1e04fe39280ed1577c924e6",
       "version_major": 2,
       "version_minor": 0
      },
      "text/plain": [
       "Map:   0%|          | 0/20 [00:00<?, ? examples/s]"
      ]
     },
     "metadata": {},
     "output_type": "display_data"
    }
   ],
   "source": [
    "def average_annotators(examples):\n",
    "    examples[\"annotator_avg\"] = np.mean([examples[k] for k in examples if \"annotator\" in k],axis=0)\n",
    "    return examples\n",
    "biosses=biosses.map(\n",
    "    average_annotators,\n",
    "    batched=True,\n",
    "    remove_columns=[f\"annotator_{x}\" for x in \"abcde\"]\n",
    ")"
   ]
  },
  {
   "cell_type": "code",
   "execution_count": 44,
   "id": "e86a4785-a60a-463b-b5d5-9ac394d2d41d",
   "metadata": {
    "tags": []
   },
   "outputs": [
    {
     "data": {
      "text/plain": [
       "{'id': 26,\n",
       " 'document_id': 27,\n",
       " 'text_1': 'We then sought to reassess the regulation of miR-223 in the exactly same experimental system adopted in the previous work ',\n",
       " 'text_2': 'Importantly, our reassessment revealed that this conserved promoter is probably active in the induction of miR-223 during All-trans retinoic acid (ATRA)-induced differentiation of the APL cell line, NB4 cells, which is the main experimental system adopted in the previous study ',\n",
       " 'annotator_avg': 2.4}"
      ]
     },
     "execution_count": 44,
     "metadata": {},
     "output_type": "execute_result"
    }
   ],
   "source": [
    "biosses[\"train\"][2]"
   ]
  },
  {
   "cell_type": "code",
   "execution_count": 5,
   "id": "8f63dd38-01cb-4e8c-ac9b-7183591dedcc",
   "metadata": {
    "tags": []
   },
   "outputs": [],
   "source": [
    "tokenizer = AutoTokenizer.from_pretrained(f\"{idr_models_dir}/bert-base-uncased\")"
   ]
  },
  {
   "cell_type": "code",
   "execution_count": 6,
   "id": "31b454e2-8d03-418c-ae40-f31fbc2a6284",
   "metadata": {
    "tags": []
   },
   "outputs": [],
   "source": [
    "text_column_names = \"text_1,text_2\"\n",
    "text_column_delimiter = \" [SEP] \"\n",
    "label_to_id = None"
   ]
  },
  {
   "cell_type": "code",
   "execution_count": 7,
   "id": "6cd07f3a-dd9d-4845-91a9-debdf79ad287",
   "metadata": {
    "tags": []
   },
   "outputs": [],
   "source": [
    "def preprocess_function(examples):\n",
    "    text_column_names = [\"text_1\",\"text_2\"]\n",
    "    # join together text columns into \"sentence\" column\n",
    "    examples[\"sentence\"] = examples[text_column_names[0]]\n",
    "    for column in text_column_names[1:]:\n",
    "        for i in range(len(examples[column])):\n",
    "            examples[\"sentence\"][i] += text_column_delimiter + examples[column][i]\n",
    "    # Tokenize the texts\n",
    "    result = tokenizer(examples[\"sentence\"], padding=False, max_length=512, truncation=True)\n",
    "    if label_to_id is not None and \"label\" in examples:\n",
    "        if is_multi_label:\n",
    "            result[\"label\"] = [multi_labels_to_ids(l) for l in examples[\"label\"]]\n",
    "        else:\n",
    "            result[\"label\"] = [(label_to_id[str(l)] if l != -1 else -1) for l in examples[\"label\"]]\n",
    "    return result"
   ]
  },
  {
   "cell_type": "code",
   "execution_count": 8,
   "id": "130dcceb-ab36-49e8-864b-075dac2f1c85",
   "metadata": {
    "tags": []
   },
   "outputs": [
    {
     "data": {
      "application/vnd.jupyter.widget-view+json": {
       "model_id": "b6907192266f4056ba1327b9e06a61a0",
       "version_major": 2,
       "version_minor": 0
      },
      "text/plain": [
       "Running tokenizer on dataset:   0%|          | 0/64 [00:00<?, ? examples/s]"
      ]
     },
     "metadata": {},
     "output_type": "display_data"
    },
    {
     "data": {
      "application/vnd.jupyter.widget-view+json": {
       "model_id": "9d73c1aa058c4dd6a307ee063c03b479",
       "version_major": 2,
       "version_minor": 0
      },
      "text/plain": [
       "Running tokenizer on dataset:   0%|          | 0/16 [00:00<?, ? examples/s]"
      ]
     },
     "metadata": {},
     "output_type": "display_data"
    },
    {
     "data": {
      "application/vnd.jupyter.widget-view+json": {
       "model_id": "7145309e52ad4498a8bc893acaf25910",
       "version_major": 2,
       "version_minor": 0
      },
      "text/plain": [
       "Running tokenizer on dataset:   0%|          | 0/20 [00:00<?, ? examples/s]"
      ]
     },
     "metadata": {},
     "output_type": "display_data"
    }
   ],
   "source": [
    "biosses = biosses.map(\n",
    "    preprocess_function,\n",
    "    batched=True,\n",
    "    desc=\"Running tokenizer on dataset\",\n",
    ")"
   ]
  },
  {
   "cell_type": "code",
   "execution_count": 9,
   "id": "b5ff40b6-d61d-4f48-ae21-0f2ba0d659fa",
   "metadata": {
    "tags": []
   },
   "outputs": [
    {
     "data": {
      "text/plain": [
       "'It has recently been shown that Craf is essential for Kras G12D-induced NSCLC.[SEP]It has recently become evident that Craf is essential for the onset of Kras-driven non-small cell lung cancer. '"
      ]
     },
     "execution_count": 9,
     "metadata": {},
     "output_type": "execute_result"
    }
   ],
   "source": [
    "biosses[\"train\"][0][\"sentence\"]"
   ]
  },
  {
   "cell_type": "code",
   "execution_count": 66,
   "id": "c1d77bd3-5668-4949-96f7-5e83b392cbc2",
   "metadata": {
    "tags": []
   },
   "outputs": [
    {
     "data": {
      "text/plain": [
       "'[CLS] it has recently been shown that craf is essential for kras g12d - induced nsclc. [SEP] it has recently become evident that craf is essential for the onset of kras - driven non - small cell lung cancer. [SEP] [PAD] [PAD] [PAD] [PAD] [PAD] [PAD] [PAD] [PAD] [PAD] [PAD] [PAD] [PAD] [PAD] [PAD] [PAD] [PAD] [PAD] [PAD] [PAD] [PAD] [PAD] [PAD] [PAD] [PAD] [PAD] [PAD] [PAD] [PAD] [PAD] [PAD] [PAD] [PAD] [PAD] [PAD] [PAD] [PAD] [PAD] [PAD] [PAD] [PAD] [PAD] [PAD] [PAD] [PAD] [PAD] [PAD] [PAD] [PAD] [PAD] [PAD] [PAD] [PAD] [PAD] [PAD] [PAD] [PAD] [PAD] [PAD] [PAD] [PAD] [PAD] [PAD] [PAD] [PAD] [PAD] [PAD] [PAD] [PAD] [PAD] [PAD] [PAD] [PAD] [PAD] [PAD] [PAD] [PAD] [PAD] [PAD] [PAD] [PAD] [PAD] [PAD] [PAD] [PAD] [PAD] [PAD] [PAD] [PAD] [PAD] [PAD] [PAD] [PAD] [PAD] [PAD] [PAD] [PAD] [PAD] [PAD] [PAD] [PAD] [PAD] [PAD]'"
      ]
     },
     "execution_count": 66,
     "metadata": {},
     "output_type": "execute_result"
    }
   ],
   "source": [
    "tokenizer.decode(biosses[\"train\"][0][\"input_ids\"])"
   ]
  },
  {
   "cell_type": "code",
   "execution_count": 67,
   "id": "6e3f16ce-09ce-411e-b4b7-0e174098e75e",
   "metadata": {
    "tags": []
   },
   "outputs": [
    {
     "name": "stdout",
     "output_type": "stream",
     "text": [
      "101 [CLS]\n",
      "2009 it\n",
      "2038 has\n",
      "3728 recently\n",
      "2042 been\n",
      "3491 shown\n",
      "2008 that\n",
      "13675 cr\n",
      "10354 ##af\n",
      "2003 is\n",
      "6827 essential\n",
      "2005 for\n",
      "1047 k\n",
      "8180 ##ras\n",
      "1043 g\n",
      "12521 ##12\n",
      "2094 ##d\n",
      "1011 -\n",
      "10572 induced\n",
      "24978 ns\n",
      "20464 ##cl\n",
      "2278 ##c\n",
      "1012 .\n",
      "102 [SEP]\n",
      "2009 it\n",
      "2038 has\n",
      "3728 recently\n",
      "2468 become\n",
      "10358 evident\n",
      "2008 that\n",
      "13675 cr\n",
      "10354 ##af\n",
      "2003 is\n",
      "6827 essential\n",
      "2005 for\n",
      "1996 the\n",
      "14447 onset\n",
      "1997 of\n",
      "1047 k\n",
      "8180 ##ras\n",
      "1011 -\n",
      "5533 driven\n",
      "2512 non\n",
      "1011 -\n",
      "2235 small\n",
      "3526 cell\n",
      "11192 lung\n",
      "4456 cancer\n",
      "1012 .\n",
      "102 [SEP]\n",
      "0 [PAD]\n",
      "0 [PAD]\n",
      "0 [PAD]\n",
      "0 [PAD]\n",
      "0 [PAD]\n",
      "0 [PAD]\n",
      "0 [PAD]\n",
      "0 [PAD]\n",
      "0 [PAD]\n",
      "0 [PAD]\n",
      "0 [PAD]\n",
      "0 [PAD]\n",
      "0 [PAD]\n",
      "0 [PAD]\n",
      "0 [PAD]\n",
      "0 [PAD]\n",
      "0 [PAD]\n",
      "0 [PAD]\n",
      "0 [PAD]\n",
      "0 [PAD]\n",
      "0 [PAD]\n",
      "0 [PAD]\n",
      "0 [PAD]\n",
      "0 [PAD]\n",
      "0 [PAD]\n",
      "0 [PAD]\n",
      "0 [PAD]\n",
      "0 [PAD]\n",
      "0 [PAD]\n",
      "0 [PAD]\n",
      "0 [PAD]\n",
      "0 [PAD]\n",
      "0 [PAD]\n",
      "0 [PAD]\n",
      "0 [PAD]\n",
      "0 [PAD]\n",
      "0 [PAD]\n",
      "0 [PAD]\n",
      "0 [PAD]\n",
      "0 [PAD]\n",
      "0 [PAD]\n",
      "0 [PAD]\n",
      "0 [PAD]\n",
      "0 [PAD]\n",
      "0 [PAD]\n",
      "0 [PAD]\n",
      "0 [PAD]\n",
      "0 [PAD]\n",
      "0 [PAD]\n",
      "0 [PAD]\n",
      "0 [PAD]\n",
      "0 [PAD]\n",
      "0 [PAD]\n",
      "0 [PAD]\n",
      "0 [PAD]\n",
      "0 [PAD]\n",
      "0 [PAD]\n",
      "0 [PAD]\n",
      "0 [PAD]\n",
      "0 [PAD]\n",
      "0 [PAD]\n",
      "0 [PAD]\n",
      "0 [PAD]\n",
      "0 [PAD]\n",
      "0 [PAD]\n",
      "0 [PAD]\n",
      "0 [PAD]\n",
      "0 [PAD]\n",
      "0 [PAD]\n",
      "0 [PAD]\n",
      "0 [PAD]\n",
      "0 [PAD]\n",
      "0 [PAD]\n",
      "0 [PAD]\n",
      "0 [PAD]\n",
      "0 [PAD]\n",
      "0 [PAD]\n",
      "0 [PAD]\n",
      "0 [PAD]\n",
      "0 [PAD]\n",
      "0 [PAD]\n",
      "0 [PAD]\n",
      "0 [PAD]\n",
      "0 [PAD]\n",
      "0 [PAD]\n",
      "0 [PAD]\n",
      "0 [PAD]\n",
      "0 [PAD]\n",
      "0 [PAD]\n",
      "0 [PAD]\n",
      "0 [PAD]\n",
      "0 [PAD]\n",
      "0 [PAD]\n",
      "0 [PAD]\n",
      "0 [PAD]\n",
      "0 [PAD]\n",
      "0 [PAD]\n",
      "0 [PAD]\n",
      "0 [PAD]\n",
      "0 [PAD]\n",
      "0 [PAD]\n",
      "0 [PAD]\n"
     ]
    }
   ],
   "source": [
    "for token in biosses[\"train\"][0][\"input_ids\"]:\n",
    "    decoded = tokenizer.decode(token)\n",
    "    print(token,decoded)"
   ]
  },
  {
   "cell_type": "code",
   "execution_count": null,
   "id": "8589c37a-1ab3-481a-ae02-c795765b1d2e",
   "metadata": {},
   "outputs": [],
   "source": []
  }
 ],
 "metadata": {
  "kernelspec": {
   "display_name": "pytorch-gpu-2.2.0_py3.11.7",
   "language": "python",
   "name": "module-conda-env-pytorch-gpu-2.2.0_py3.11.7"
  },
  "language_info": {
   "codemirror_mode": {
    "name": "ipython",
    "version": 3
   },
   "file_extension": ".py",
   "mimetype": "text/x-python",
   "name": "python",
   "nbconvert_exporter": "python",
   "pygments_lexer": "ipython3",
   "version": "3.11.7"
  }
 },
 "nbformat": 4,
 "nbformat_minor": 5
}
