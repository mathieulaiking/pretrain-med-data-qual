{
 "cells": [
  {
   "cell_type": "markdown",
   "id": "3a83e3ab-c0c0-4bbe-85ae-9ef297d726e4",
   "metadata": {},
   "source": [
    "# Results extraction for paper"
   ]
  },
  {
   "cell_type": "code",
   "execution_count": 1,
   "id": "1a450b01-d44a-4662-bede-7ad79f508987",
   "metadata": {
    "tags": []
   },
   "outputs": [],
   "source": [
    "import os\n",
    "import glob\n",
    "import json\n",
    "import pandas as pd"
   ]
  },
  {
   "cell_type": "code",
   "execution_count": null,
   "id": "a04db8c1-64bd-4032-b834-5b1367132392",
   "metadata": {},
   "outputs": [],
   "source": [
    "# CONSTANTS"
   ]
  },
  {
   "cell_type": "markdown",
   "id": "935d2dbc-e472-4a5b-aab1-aff516f1cb2f",
   "metadata": {},
   "source": [
    "## general blurb results table"
   ]
  },
  {
   "cell_type": "code",
   "execution_count": null,
   "id": "a1cb7ad9-1a47-4f4b-a4df-0a5da8408b81",
   "metadata": {},
   "outputs": [],
   "source": []
  }
 ],
 "metadata": {
  "kernelspec": {
   "display_name": "pytorch-gpu-2.2.0_py3.11.7",
   "language": "python",
   "name": "module-conda-env-pytorch-gpu-2.2.0_py3.11.7"
  },
  "language_info": {
   "codemirror_mode": {
    "name": "ipython",
    "version": 3
   },
   "file_extension": ".py",
   "mimetype": "text/x-python",
   "name": "python",
   "nbconvert_exporter": "python",
   "pygments_lexer": "ipython3",
   "version": "3.11.7"
  }
 },
 "nbformat": 4,
 "nbformat_minor": 5
}
